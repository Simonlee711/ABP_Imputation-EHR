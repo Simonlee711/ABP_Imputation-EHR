{
 "cells": [
  {
   "cell_type": "markdown",
   "metadata": {
    "toc": true
   },
   "source": [
    "<h1>Table of Contents<span class=\"tocSkip\"></span></h1>\n",
    "<div class=\"toc\"><ul class=\"toc-item\"><li><span><a href=\"#Per-patient-Bland-Altman\" data-toc-modified-id=\"Per-patient-Bland-Altman-1\"><span class=\"toc-item-num\">1&nbsp;&nbsp;</span>Per-patient Bland-Altman</a></span></li><li><span><a href=\"#Waveform-stats\" data-toc-modified-id=\"Waveform-stats-2\"><span class=\"toc-item-num\">2&nbsp;&nbsp;</span>Waveform stats</a></span></li><li><span><a href=\"#Error-as-function-of-proximity-to-NIBP\" data-toc-modified-id=\"Error-as-function-of-proximity-to-NIBP-3\"><span class=\"toc-item-num\">3&nbsp;&nbsp;</span>Error as function of proximity to NIBP</a></span></li><li><span><a href=\"#Error-as-a-function-of-Systolic-BP-variability\" data-toc-modified-id=\"Error-as-a-function-of-Systolic-BP-variability-4\"><span class=\"toc-item-num\">4&nbsp;&nbsp;</span>Error as a function of Systolic BP variability</a></span></li><li><span><a href=\"#Joint-error-as-function-of-time-from-NIBP\" data-toc-modified-id=\"Joint-error-as-function-of-time-from-NIBP-5\"><span class=\"toc-item-num\">5&nbsp;&nbsp;</span>Joint error as function of time from NIBP</a></span></li><li><span><a href=\"#Plotly-figure-for-debugging\" data-toc-modified-id=\"Plotly-figure-for-debugging-6\"><span class=\"toc-item-num\">6&nbsp;&nbsp;</span>Plotly figure for debugging</a></span></li></ul></div>"
   ]
  },
  {
   "cell_type": "code",
   "execution_count": null,
   "metadata": {
    "ExecuteTime": {
     "end_time": "2020-03-07T20:44:34.220360Z",
     "start_time": "2020-03-07T20:44:32.090718Z"
    }
   },
   "outputs": [],
   "source": [
    "import os\n",
    "import pandas as pd\n",
    "import numpy as np\n",
    "import matplotlib.pyplot as plt\n",
    "import glob\n",
    "import sys\n",
    "from tqdm import tqdm\n",
    "import plotly.express as px\n",
    "\n",
    "from sklearn.metrics import mean_squared_error, mean_absolute_error\n",
    "\n",
    "import bootstrapped.bootstrap as bs\n",
    "import bootstrapped.stats_functions as bs_stats\n",
    "\n",
    "sys.path.append(\"../\")\n",
    "import src.project_configs as project_configs\n",
    "import src.utils as utils\n",
    "\n",
    "# predictions_dir = \"../src/models/model_predictions_sideris_4s/\"\n",
    "#predictions_dir = os.path.join(project_configs.project_dir, \"ppg_baseline_noise_test_patients\")\n",
    "predictions_dir = \"/Volumes/External/mimic_v7_2s/ppg_baseline_no_noise_test_patients\"\n",
    "\n",
    "save_dir = os.path.join(\"../reports/figures/\", \n",
    "                        os.path.basename(project_configs.project_dir), \n",
    "                        os.path.basename(predictions_dir))\n",
    "if not os.path.exists(save_dir):\n",
    "    os.makedirs(save_dir)\n",
    "    \n",
    "print(\"Loading predictions from {}\".format(predictions_dir))\n",
    "print(\"Saving results to {}\".format(save_dir))"
   ]
  },
  {
   "cell_type": "code",
   "execution_count": null,
   "metadata": {
    "ExecuteTime": {
     "end_time": "2020-03-07T20:44:34.227153Z",
     "start_time": "2020-03-07T20:44:34.222855Z"
    }
   },
   "outputs": [],
   "source": [
    "def wave_rmse(window):\n",
    "    if window.shape[0] > 0:\n",
    "        win = window[np.all(~window[[\"y_true\", \"y_pred\"]].isna(), axis=1)]\n",
    "        return np.sqrt(mean_squared_error(win[\"y_true\"], win[\"y_pred\"]))\n",
    "    else:\n",
    "        return np.nan"
   ]
  },
  {
   "cell_type": "code",
   "execution_count": null,
   "metadata": {
    "ExecuteTime": {
     "end_time": "2020-03-07T20:44:34.234606Z",
     "start_time": "2020-03-07T20:44:34.230732Z"
    }
   },
   "outputs": [],
   "source": [
    "def wave_corr(window):\n",
    "    if window.shape[0] > 0:\n",
    "        win = window[np.all(~window[[\"y_true\", \"y_pred\"]].isna(), axis=1)]\n",
    "        return np.corrcoef(win[\"y_true\"], win[\"y_pred\"])[0, 1]\n",
    "    else:\n",
    "        return np.nan"
   ]
  },
  {
   "cell_type": "code",
   "execution_count": null,
   "metadata": {
    "ExecuteTime": {
     "end_time": "2020-03-07T20:44:34.243858Z",
     "start_time": "2020-03-07T20:44:34.238570Z"
    }
   },
   "outputs": [],
   "source": [
    "def wave_mae(window):\n",
    "    if window.shape[0] > 0:\n",
    "        win = window[np.all(~window[[\"y_true\", \"y_pred\"]].isna(), axis=1)]\n",
    "        return mean_absolute_error(win[\"y_true\"], win[\"y_pred\"])\n",
    "    else: \n",
    "        return np.nan"
   ]
  },
  {
   "cell_type": "code",
   "execution_count": null,
   "metadata": {
    "ExecuteTime": {
     "end_time": "2020-03-07T20:47:48.827302Z",
     "start_time": "2020-03-07T20:44:34.246539Z"
    }
   },
   "outputs": [],
   "source": [
    "pred_files = glob.glob(os.path.join(predictions_dir, \"*.csv.gz\"))\n",
    "\n",
    "print(\"Found {} files\".format(len(pred_files)))\n",
    "\n",
    "results_dfs_list = []\n",
    "\n",
    "for f in tqdm(pred_files):\n",
    "    try:\n",
    "        df = pd.read_csv(f, sep=\",\", header=0)\n",
    "        results_dfs_list.append(df)\n",
    "    except:\n",
    "        print(\"Count not find any data in {}\".format(f))"
   ]
  },
  {
   "cell_type": "code",
   "execution_count": null,
   "metadata": {
    "ExecuteTime": {
     "end_time": "2020-03-07T20:49:45.235168Z",
     "start_time": "2020-03-07T20:49:44.794169Z"
    }
   },
   "outputs": [],
   "source": [
    "results_df = pd.concat(results_dfs_list)\n",
    "print(results_df.columns.values)\n",
    "del results_dfs_list"
   ]
  },
  {
   "cell_type": "code",
   "execution_count": null,
   "metadata": {
    "ExecuteTime": {
     "end_time": "2020-03-07T20:49:47.526353Z",
     "start_time": "2020-03-07T20:49:47.521971Z"
    }
   },
   "outputs": [],
   "source": [
    "results_df.shape"
   ]
  },
  {
   "cell_type": "markdown",
   "metadata": {},
   "source": [
    "# Per-patient Bland-Altman"
   ]
  },
  {
   "cell_type": "code",
   "execution_count": null,
   "metadata": {
    "ExecuteTime": {
     "end_time": "2020-03-07T20:02:45.826502Z",
     "start_time": "2020-03-07T20:02:45.819598Z"
    }
   },
   "outputs": [],
   "source": [
    "def get_beat_bp_vals(window):\n",
    "    # get indices of sys/dias BP\n",
    "    true_bp_max_indices, true_bp_min_indices = utils.get_art_peaks(window[\"y_true\"])\n",
    "    pred_bp_max_indices, pred_bp_min_indices = utils.get_art_peaks(window[\"y_pred\"])\n",
    "\n",
    "    # align bp indices in case of different number of peaks\n",
    "    true_bp_max_indices, pred_bp_max_indices = utils.align_lists(true_bp_max_indices, pred_bp_max_indices)\n",
    "    true_bp_min_indices, pred_bp_min_indices = utils.align_lists(true_bp_min_indices, pred_bp_min_indices)\n",
    "\n",
    "    # get values of blood pressure at peak indices\n",
    "    y_true_sys_bp_all = window.iloc[true_bp_max_indices, :][\"y_true\"].values\n",
    "    y_true_dias_bp_all = window.iloc[true_bp_min_indices, :][\"y_true\"].values\n",
    "\n",
    "    y_pred_sys_bp_all = window.iloc[pred_bp_max_indices, :][\"y_pred\"].values\n",
    "    y_pred_dias_bp_all = window.iloc[pred_bp_min_indices, :][\"y_pred\"].values\n",
    "\n",
    "    return y_true_sys_bp_all, y_pred_sys_bp_all, y_true_dias_bp_all, y_pred_dias_bp_all"
   ]
  },
  {
   "cell_type": "code",
   "execution_count": null,
   "metadata": {
    "ExecuteTime": {
     "end_time": "2020-03-07T20:02:45.872370Z",
     "start_time": "2020-03-07T20:02:45.830112Z"
    }
   },
   "outputs": [],
   "source": [
    "results_df.head()"
   ]
  },
  {
   "cell_type": "markdown",
   "metadata": {},
   "source": [
    "# Waveform stats"
   ]
  },
  {
   "cell_type": "code",
   "execution_count": null,
   "metadata": {
    "ExecuteTime": {
     "end_time": "2020-03-07T20:04:49.185561Z",
     "start_time": "2020-03-07T20:02:45.875477Z"
    }
   },
   "outputs": [],
   "source": [
    "per_patient_error = results_df.groupby(\"patient_ID\").apply(wave_rmse)\n",
    "per_patient_corr = results_df.groupby(\"patient_ID\").apply(wave_corr)\n",
    "per_patient_mae = results_df.groupby(\"patient_ID\").apply(wave_mae)"
   ]
  },
  {
   "cell_type": "code",
   "execution_count": null,
   "metadata": {},
   "outputs": [],
   "source": []
  },
  {
   "cell_type": "code",
   "execution_count": null,
   "metadata": {
    "ExecuteTime": {
     "end_time": "2020-03-07T20:05:08.305896Z",
     "start_time": "2020-03-07T20:05:07.963154Z"
    }
   },
   "outputs": [],
   "source": [
    "# log to file\n",
    "with open(os.path.join(save_dir, \"wave_error_stats.txt\"), \"w\") as stats_f:\n",
    "    rmse_results = \"RMSE: {} +/- {}\\n\".format(bs.bootstrap(per_patient_error.values, stat_func=bs_stats.mean), \n",
    "                                              bs.bootstrap(per_patient_error.values, stat_func=bs_stats.std))\n",
    "    print(rmse_results)\n",
    "    stats_f.write(rmse_results)\n",
    "    \n",
    "    corr_results = \"Corr: {} +/- {}\\n\".format(bs.bootstrap(per_patient_corr.values, stat_func=bs_stats.mean), \n",
    "                                              bs.bootstrap(per_patient_corr.values, stat_func=bs_stats.std))\n",
    "    print(corr_results)\n",
    "    stats_f.write(corr_results)\n",
    "    \n",
    "    mae_results = \"MAE: {} +/- {}\\n\".format(bs.bootstrap(per_patient_mae.values, stat_func=bs_stats.mean), \n",
    "                                            bs.bootstrap(per_patient_mae.values, stat_func=bs_stats.std))\n",
    "    print(mae_results)\n",
    "    stats_f.write(mae_results)\n"
   ]
  },
  {
   "cell_type": "code",
   "execution_count": null,
   "metadata": {
    "ExecuteTime": {
     "end_time": "2020-03-07T20:05:08.310913Z",
     "start_time": "2020-03-07T20:05:08.308523Z"
    }
   },
   "outputs": [],
   "source": [
    "#results_df[results_df[\"patient_ID\"] == \"p027245\"][[\"y_true\", \"y_pred\"]].plot()\n",
    "# results_df[(results_df[\"patient_ID\"] == \"p027245\") & (results_df[\"ecg\"] > 10)][\"ecg\"].plot()"
   ]
  },
  {
   "cell_type": "code",
   "execution_count": null,
   "metadata": {
    "ExecuteTime": {
     "end_time": "2020-03-07T20:05:08.317002Z",
     "start_time": "2020-03-07T20:05:08.313687Z"
    }
   },
   "outputs": [],
   "source": [
    "# results_df[(results_df[\"patient_ID\"] == \"p065689\") & (results_df[\"ecg\"] > 10)][\"ecg\"].plot()"
   ]
  },
  {
   "cell_type": "code",
   "execution_count": null,
   "metadata": {
    "ExecuteTime": {
     "end_time": "2020-03-07T20:05:08.323717Z",
     "start_time": "2020-03-07T20:05:08.320760Z"
    }
   },
   "outputs": [],
   "source": [
    "# x = results_df.groupby([\"patient_ID\", \"window_number\"]).apply(get_sys_vals)"
   ]
  },
  {
   "cell_type": "code",
   "execution_count": null,
   "metadata": {
    "ExecuteTime": {
     "end_time": "2020-03-07T20:05:08.330774Z",
     "start_time": "2020-03-07T20:05:08.326408Z"
    }
   },
   "outputs": [],
   "source": [
    "def bland_altman_vals(y_true, y_pred):\n",
    "    means = np.mean([y_true, y_pred], axis=0)\n",
    "    differences = np.array(y_true) - np.array(y_pred)\n",
    "    return means, differences"
   ]
  },
  {
   "cell_type": "code",
   "execution_count": null,
   "metadata": {
    "ExecuteTime": {
     "end_time": "2020-03-07T20:16:42.539025Z",
     "start_time": "2020-03-07T20:05:08.333762Z"
    }
   },
   "outputs": [],
   "source": [
    "unique_patients = results_df[\"patient_ID\"].unique()\n",
    "patient_bland_altman_sys = {p: [[], []] for p in unique_patients}\n",
    "patient_bland_altman_dias = {p: [[], []] for p in unique_patients}\n",
    "\n",
    "for idx, val in tqdm(results_df.groupby([\"patient_ID\", \"window_number\"])):\n",
    "    sys_true, sys_pred, dias_true, dias_pred = get_beat_bp_vals(val)\n",
    "    bland_altman_sys = bland_altman_vals(sys_true, sys_pred)\n",
    "    bland_altman_dias = bland_altman_vals(dias_true, dias_pred)\n",
    "    patient_bland_altman_sys[idx[0]][0].append(bland_altman_sys[0])\n",
    "    patient_bland_altman_sys[idx[0]][1].append(bland_altman_sys[1])\n",
    "    patient_bland_altman_dias[idx[0]][0].append(bland_altman_dias[0])\n",
    "    patient_bland_altman_dias[idx[0]][1].append(bland_altman_dias[1])\n",
    "    \n",
    "for p, v in patient_bland_altman_sys.items():\n",
    "    v[0] = np.concatenate(v[0])\n",
    "    v[1] = np.concatenate(v[1])\n",
    "    \n",
    "for p, v in patient_bland_altman_dias.items():\n",
    "    v[0] = np.concatenate(v[0])\n",
    "    v[1] = np.concatenate(v[1])"
   ]
  },
  {
   "cell_type": "code",
   "execution_count": null,
   "metadata": {
    "ExecuteTime": {
     "end_time": "2020-03-07T20:16:42.574224Z",
     "start_time": "2020-03-07T20:16:42.552303Z"
    }
   },
   "outputs": [],
   "source": [
    "for p, v in patient_bland_altman_sys.items():\n",
    "    print(p, v[0].shape, v[1].shape)"
   ]
  },
  {
   "cell_type": "code",
   "execution_count": null,
   "metadata": {
    "ExecuteTime": {
     "end_time": "2020-03-07T20:16:42.602145Z",
     "start_time": "2020-03-07T20:16:42.577004Z"
    }
   },
   "outputs": [],
   "source": [
    "[np.mean(m[0]) for m in patient_bland_altman_sys.values()]"
   ]
  },
  {
   "cell_type": "code",
   "execution_count": null,
   "metadata": {
    "ExecuteTime": {
     "end_time": "2020-02-11T01:24:11.040532Z",
     "start_time": "2020-02-11T01:24:11.027130Z"
    }
   },
   "outputs": [],
   "source": []
  },
  {
   "cell_type": "code",
   "execution_count": null,
   "metadata": {
    "ExecuteTime": {
     "end_time": "2020-03-07T20:16:42.661113Z",
     "start_time": "2020-03-07T20:16:42.605762Z"
    }
   },
   "outputs": [],
   "source": [
    "def bland_altman_per_patient(bland_altman_sys, bland_altman_dias, \n",
    "                             sys_axis_lim = [50, 200], dias_axis_lim = [0, 150],\n",
    "                             y_label=\"Invasive - Predicted Arterial Pressure [mmHg]\",\n",
    "                             x_label=\"(Invasive + Predicted Arterial Pressure)/2 [mmHg]\",\n",
    "                             title_string = \"Bland-Altman {} ABP - Validation: {} +/- {}\",\n",
    "                             plot_file_name=\"joint_bland_altman.png\", \n",
    "                             log_file_name=\"beat_error_stats.txt\"):\n",
    "    # plot bland-altman for all patients, where x-value is mean of the average, y-value is mean of\n",
    "    # differences (errors), x-error-bar is std. dev. of average, and y-error-bar is std. dev. of the\n",
    "    # differences (errors\n",
    "    x_sys = [np.mean(m[0]) for m in bland_altman_sys.values()]\n",
    "    y_sys = [np.mean(m[1]) for m in bland_altman_sys.values()]\n",
    "    x_error_sys = [np.std(m[0]) for m in bland_altman_sys.values()]\n",
    "    y_error_sys = [np.std(m[1]) for m in bland_altman_sys.values()]\n",
    "\n",
    "    x_dias = [np.mean(m[0]) for m in bland_altman_dias.values()]\n",
    "    y_dias = [np.mean(m[1]) for m in bland_altman_dias.values()]\n",
    "    x_error_dias = [np.std(m[0]) for m in bland_altman_dias.values()]\n",
    "    y_error_dias = [np.std(m[1]) for m in bland_altman_dias.values()]\n",
    "\n",
    "    # draw lines on plot for mean, SD, 2xSD\n",
    "    sys_diffs = [i for sublist in [m[1] for m in bland_altman_sys.values()] for i in sublist]\n",
    "    mean_sys_diff_all = np.mean(sys_diffs)\n",
    "    std_sys_diff_all = np.std(sys_diffs)\n",
    "    \n",
    "    print(\"Mean diff Sys BP: {} (+/- {})\".format(mean_sys_diff_all, std_sys_diff_all))\n",
    "    print(\"Mean Absolute diff Sys BP: {} (+/- {})\".format(np.mean(np.abs(sys_diffs)), np.std(np.abs(sys_diffs))))\n",
    "\n",
    "    population_rmse_sys = [np.sqrt(np.mean(np.square(m[1]))) for m in bland_altman_sys.values()]\n",
    "    print(\"RMSE diff Sys BP: {} (+/- {})\".format(np.mean(population_rmse_sys), np.std(population_rmse_sys)))\n",
    "\n",
    "    dias_diffs = [i for sublist in [m[1] for m in bland_altman_dias.values()] for i in sublist]\n",
    "    mean_dias_diff_all = np.mean(dias_diffs)\n",
    "    std_dias_diff_all = np.std(dias_diffs)\n",
    "    print(\"Mean diff Dias BP: {} (+/- {})\".format(mean_dias_diff_all, std_dias_diff_all))\n",
    "    print(\"Mean Absolute diff Dias BP: {} (+/- {})\".format(np.mean(np.abs(dias_diffs)), np.std(np.abs(dias_diffs))))\n",
    "\n",
    "    population_rmse_dias = [np.sqrt(np.mean(np.square(m[1]))) for m in bland_altman_dias.values()]\n",
    "    print(\"RMSE diff Dias BP: {} (+/- {})\".format(np.mean(population_rmse_dias), np.std(population_rmse_dias)))\n",
    "\n",
    "    vals = {\"Mean diff Sys BP: {} (+/- {})\\n\": sys_diffs, \n",
    "            \"Mean Abs diff Sys BP: {} (+/- {})\\n\": np.abs(sys_diffs), \n",
    "            \"RMSE diff Sys BP: {} (+/- {})\\n\": population_rmse_sys, \n",
    "            \"Mean diff Dias BP: {} (+/- {})\\n\": dias_diffs, \n",
    "            \"Mean Absolute diff Dias BP: {} (+/- {})\\n\": np.abs(dias_diffs), \n",
    "            \"RMSE diff Dias BP: {} (+/- {})\\n\": population_rmse_dias}\n",
    "    with open(os.path.join(save_dir, log_file_name), \"w\") as out_f:\n",
    "        for k, v in vals.items():\n",
    "            txt = k.format(bs.bootstrap(np.array(v), stat_func=bs_stats.mean, iteration_batch_size=1), \n",
    "                           bs.bootstrap(np.array(v), stat_func=bs_stats.std, iteration_batch_size=1))\n",
    "            print(txt)\n",
    "            out_f.write(txt)        \n",
    "    \n",
    "    plot_lim = [-60, 60]\n",
    "    \n",
    "    axis_label_font_size = 14\n",
    "    title_font_size = 16\n",
    "    line_limits = [1, 2]\n",
    "    dashes = [[20, 5], [10, 2]]\n",
    "\n",
    "\n",
    "    fig, ax = plt.subplots(1, 2, figsize=(16, 8))\n",
    "    ax[0].set_ylim(plot_lim)\n",
    "    ax[0].set_xlim(sys_axis_lim)\n",
    "    ax[0].set_yticks(np.arange(plot_lim[0], plot_lim[1] + 1, 15))\n",
    "    ax[0].set_xticks(np.arange(sys_axis_lim[0], sys_axis_lim[1] + 1, 25))\n",
    "    ax[0].tick_params(labelsize=13)\n",
    "    ax[0].errorbar(x_sys, y_sys, xerr=x_error_sys, yerr=y_error_sys, fmt='o', markeredgecolor='black',\n",
    "                   ecolor='g', capthick=2, capsize=2)\n",
    "    ax[0].set_ylabel(y_label, fontsize=axis_label_font_size)\n",
    "    ax[0].set_xlabel(x_label, fontsize=axis_label_font_size)\n",
    "    # add number of points to plot\n",
    "    ax[0].legend([\"N={}\".format(len(bland_altman_sys))], loc='upper left')\n",
    "    # add title\n",
    "    ax[0].set_title(title_string.format(\"Systolic\",\n",
    "                                        np.round(mean_sys_diff_all, 1),\n",
    "                                        np.round(std_sys_diff_all, 1)), fontsize=title_font_size)\n",
    "    # add SD lines\n",
    "    ax[0].axhline(mean_sys_diff_all, linestyle='-', c='black')\n",
    "    for sd_limit, dash_style in zip(line_limits, dashes):\n",
    "        limit_of_agreement = sd_limit * std_sys_diff_all\n",
    "        lower = mean_sys_diff_all - limit_of_agreement\n",
    "        upper = mean_sys_diff_all + limit_of_agreement\n",
    "        for j, lim in enumerate([lower, upper]):\n",
    "            ax[0].axhline(lim, linestyle='--', dashes=dash_style, c='black')\n",
    "\n",
    "\n",
    "    ax[1].set_ylim(plot_lim)\n",
    "    ax[1].set_xlim(dias_axis_lim)\n",
    "    ax[1].set_yticks(np.arange(plot_lim[0], plot_lim[1] + 1, 15))\n",
    "    ax[1].set_xticks(np.arange(dias_axis_lim[0], dias_axis_lim[1] + 1, 25))\n",
    "    ax[1].tick_params(labelsize=13)\n",
    "    ax[1].errorbar(x_dias, y_dias, xerr=x_error_dias, yerr=y_error_dias, fmt='o', markeredgecolor='black',\n",
    "                   ecolor='g', capthick=2, capsize=2)\n",
    "    ax[1].set_ylabel(y_label, fontsize=axis_label_font_size)\n",
    "    ax[1].set_xlabel(x_label, fontsize=axis_label_font_size)\n",
    "    # add number of points to plot\n",
    "    ax[1].legend([\"N={}\".format(len(bland_altman_dias))], loc='upper left')\n",
    "    # add title\n",
    "    ax[1].set_title(title_string.format(\"Diastolic\",\n",
    "                                        np.round(mean_dias_diff_all, 1),\n",
    "                                        np.round(std_dias_diff_all, 1)), fontsize=title_font_size)\n",
    "    ax[1].axhline(mean_dias_diff_all, linestyle='-', c='black')\n",
    "    for sd_limit, dash_style in zip(line_limits, dashes):\n",
    "        limit_of_agreement = sd_limit * std_dias_diff_all\n",
    "        lower = mean_dias_diff_all - limit_of_agreement\n",
    "        upper = mean_dias_diff_all + limit_of_agreement\n",
    "        for j, lim in enumerate([lower, upper]):\n",
    "            ax[1].axhline(lim, linestyle='--', dashes=dash_style, c='black')\n",
    "    plt.savefig(os.path.join(save_dir, plot_file_name))\n",
    "    plt.show()\n",
    "    plt.close()\n",
    "    return ax"
   ]
  },
  {
   "cell_type": "code",
   "execution_count": null,
   "metadata": {
    "ExecuteTime": {
     "start_time": "2020-03-07T19:58:05.568Z"
    },
    "scrolled": false
   },
   "outputs": [],
   "source": [
    "bland_altman_per_patient(patient_bland_altman_sys, patient_bland_altman_dias)"
   ]
  },
  {
   "cell_type": "code",
   "execution_count": null,
   "metadata": {
    "ExecuteTime": {
     "end_time": "2020-02-14T01:45:41.601261Z",
     "start_time": "2020-02-14T01:45:41.317933Z"
    }
   },
   "outputs": [],
   "source": []
  },
  {
   "cell_type": "markdown",
   "metadata": {},
   "source": [
    "# Error as function of proximity to NIBP"
   ]
  },
  {
   "cell_type": "code",
   "execution_count": null,
   "metadata": {
    "ExecuteTime": {
     "start_time": "2020-03-07T19:58:05.571Z"
    }
   },
   "outputs": [],
   "source": [
    "results_df[\"prox\"].value_counts()"
   ]
  },
  {
   "cell_type": "code",
   "execution_count": null,
   "metadata": {
    "ExecuteTime": {
     "start_time": "2020-03-07T19:58:05.574Z"
    }
   },
   "outputs": [],
   "source": [
    "results_df[results_df[\"prox\"] < 200000][\"prox\"].hist(bins=100)"
   ]
  },
  {
   "cell_type": "code",
   "execution_count": null,
   "metadata": {
    "ExecuteTime": {
     "start_time": "2020-03-07T19:58:05.577Z"
    }
   },
   "outputs": [],
   "source": [
    "# results_df[\"prox\"].isna().sum()"
   ]
  },
  {
   "cell_type": "code",
   "execution_count": null,
   "metadata": {
    "ExecuteTime": {
     "start_time": "2020-03-07T19:58:05.580Z"
    }
   },
   "outputs": [],
   "source": [
    "# results_df[\"y_true\"].isna().sum()"
   ]
  },
  {
   "cell_type": "code",
   "execution_count": null,
   "metadata": {},
   "outputs": [],
   "source": []
  },
  {
   "cell_type": "code",
   "execution_count": null,
   "metadata": {
    "ExecuteTime": {
     "start_time": "2020-03-07T19:58:05.584Z"
    }
   },
   "outputs": [],
   "source": [
    "# results_df[~results_df[[\"y_true\", \"y_pred\"]].isna()][\"y_pred\"].isna().sum()"
   ]
  },
  {
   "cell_type": "code",
   "execution_count": null,
   "metadata": {
    "ExecuteTime": {
     "start_time": "2020-03-07T19:58:05.586Z"
    }
   },
   "outputs": [],
   "source": [
    "def wave_rmse_mean_std(window):\n",
    "    if window.shape[0] > 0:\n",
    "        win = window[np.all(~window[[\"y_true\", \"y_pred\"]].isna(), axis=1)]\n",
    "        mean_rmse = win.groupby(\"patient_ID\").apply(lambda x: np.sqrt(mean_squared_error(x[\"y_true\"], x[\"y_pred\"]))).mean()\n",
    "        std_rmse = win.groupby(\"patient_ID\").apply(lambda x: np.sqrt(mean_squared_error(x[\"y_true\"], x[\"y_pred\"]))).std()\n",
    "#         return np.sqrt(mean_squared_error(win[\"y_true\"], win[\"y_pred\"]))\n",
    "        return pd.Series({'mean_rmse': mean_rmse, 'std_rmse': std_rmse})\n",
    "    else:\n",
    "        return np.nan"
   ]
  },
  {
   "cell_type": "code",
   "execution_count": null,
   "metadata": {
    "ExecuteTime": {
     "start_time": "2020-03-07T19:58:05.589Z"
    }
   },
   "outputs": [],
   "source": [
    "max_time_from_nibp = 100*60*10\n",
    "bin_width = 10\n",
    "bins = range(0, int(max(results_df[\"prox\"])), max_time_from_nibp)\n",
    "bins = range(0, int(max_time_from_nibp/project_configs.sample_freq), bin_width)\n",
    "\n",
    "# only get samples that are within reasonable time range\n",
    "results_df_filtered = results_df[results_df[\"prox\"] < max_time_from_nibp]\n",
    "results_df_filtered[\"prox\"] = results_df_filtered[\"prox\"]/project_configs.sample_freq"
   ]
  },
  {
   "cell_type": "code",
   "execution_count": null,
   "metadata": {
    "ExecuteTime": {
     "start_time": "2020-03-07T19:58:05.591Z"
    }
   },
   "outputs": [],
   "source": [
    "# group data by bin \n",
    "grouped_df = results_df_filtered.groupby(pd.cut(results_df_filtered[\"prox\"], bins=bins)).apply(wave_rmse_mean_std)"
   ]
  },
  {
   "cell_type": "code",
   "execution_count": null,
   "metadata": {
    "ExecuteTime": {
     "start_time": "2020-03-07T19:58:05.594Z"
    }
   },
   "outputs": [],
   "source": [
    "grouped_df.head()"
   ]
  },
  {
   "cell_type": "code",
   "execution_count": null,
   "metadata": {
    "ExecuteTime": {
     "end_time": "2020-03-05T23:43:38.473856Z",
     "start_time": "2020-03-05T23:43:38.441985Z"
    }
   },
   "outputs": [],
   "source": []
  },
  {
   "cell_type": "code",
   "execution_count": null,
   "metadata": {
    "ExecuteTime": {
     "start_time": "2020-03-07T19:58:05.598Z"
    }
   },
   "outputs": [],
   "source": [
    "fig, ax = plt.subplots(1, 1, figsize=(12,6))\n",
    "grouped_df[\"mean_rmse\"].plot(ax=ax)\n",
    "ax.fill_between(np.arange(len(grouped_df[\"std_rmse\"].values)), \n",
    "                 (grouped_df[\"mean_rmse\"] - grouped_df[\"std_rmse\"]).values, \n",
    "                 (grouped_df[\"mean_rmse\"] + grouped_df[\"std_rmse\"]).values, \n",
    "                alpha=0.2)\n",
    "\n",
    "#plt.xticks(rotation=45)\n",
    "#plt.locator_params(axis='x', nbins=20)\n",
    "plt.xlabel(\"Time from most recent NIBP measurement (seconds)\")\n",
    "plt.ylabel(\"RMSE\")\n",
    "plt.ylim([0, 80])\n",
    "plt.tight_layout()\n",
    "plt.savefig(os.path.join(save_dir, \"error_vs_time_from_cuff.png\"))\n",
    "plt.show()"
   ]
  },
  {
   "cell_type": "code",
   "execution_count": null,
   "metadata": {
    "ExecuteTime": {
     "start_time": "2020-03-07T19:58:05.600Z"
    }
   },
   "outputs": [],
   "source": [
    "# write data to file\n",
    "grouped_df.index =  grouped_df.index.astype(str)\n",
    "grouped_df.to_csv(os.path.join(save_dir, \"error_vs_time_from_cuff.csv\"), header=True, index=True)"
   ]
  },
  {
   "cell_type": "markdown",
   "metadata": {},
   "source": [
    "# Error as a function of Systolic BP variability"
   ]
  },
  {
   "cell_type": "code",
   "execution_count": null,
   "metadata": {
    "ExecuteTime": {
     "start_time": "2020-03-07T19:58:05.603Z"
    }
   },
   "outputs": [],
   "source": [
    "def var_diff_vals(y_true, y_pred):\n",
    "    var = np.std(y_true)\n",
    "#     differences = np.array(y_true) - np.array(y_pred)\n",
    "    differences = np.sqrt(mean_squared_error(y_true, y_pred))\n",
    "    return var, differences"
   ]
  },
  {
   "cell_type": "code",
   "execution_count": null,
   "metadata": {
    "ExecuteTime": {
     "start_time": "2020-03-07T19:58:05.606Z"
    }
   },
   "outputs": [],
   "source": [
    "patient_bp_var_error_sys = {p: [[], []] for p in unique_patients}\n",
    "patient_bp_var_error_dias = {p: [[], []] for p in unique_patients}\n",
    "\n",
    "for idx, val in results_df.groupby([\"patient_ID\", \"window_number\"]):\n",
    "    sys_true, sys_pred, dias_true, dias_pred = get_beat_bp_vals(val)\n",
    "    \n",
    "    try:\n",
    "        patient_bp_var_error_sys[idx[0]][0].append(var_diff_vals(sys_true, sys_pred)[0])\n",
    "        patient_bp_var_error_sys[idx[0]][1].append(var_diff_vals(sys_true, sys_pred)[1])\n",
    "        patient_bp_var_error_dias[idx[0]][0].append(var_diff_vals(dias_true, dias_pred)[0])\n",
    "        patient_bp_var_error_dias[idx[0]][1].append(var_diff_vals(dias_true, dias_pred)[1])\n",
    "    except ValueError:\n",
    "        print(\"No valid data for {}\".format(idx))\n",
    "    \n",
    "# for p, v in patient_bp_var_error_sys.items():\n",
    "#     v[0] = np.concatenate(v[0])\n",
    "#     v[1] = np.concatenate(v[1])\n",
    "    \n",
    "# for p, v in patient_bp_var_error_dias.items():\n",
    "#     v[0] = np.concatenate(v[0])\n",
    "#     v[1] = np.concatenate(v[1])"
   ]
  },
  {
   "cell_type": "code",
   "execution_count": null,
   "metadata": {
    "ExecuteTime": {
     "start_time": "2020-03-07T19:58:05.609Z"
    }
   },
   "outputs": [],
   "source": [
    "for k, v in patient_bp_var_error_sys.items():\n",
    "    print(k, len(v[0]), len(v[1]))"
   ]
  },
  {
   "cell_type": "code",
   "execution_count": null,
   "metadata": {
    "ExecuteTime": {
     "start_time": "2020-03-07T19:58:05.613Z"
    }
   },
   "outputs": [],
   "source": [
    "bland_altman_per_patient(patient_bp_var_error_sys, patient_bp_var_error_dias, \n",
    "                         sys_axis_lim=[-5, 10], dias_axis_lim=[-5, 10], \n",
    "                         y_label=\"RMSE\",\n",
    "                         x_label=\"Standard Deviation of ABP\",\n",
    "                         title_string=\" Error vs. Variance: {} Blood Pressure\",\n",
    "                         plot_file_name=\"error_vs_variance.png\", \n",
    "                         log_file_name=\"error_vs_variance_results.txt\")"
   ]
  },
  {
   "cell_type": "code",
   "execution_count": null,
   "metadata": {
    "ExecuteTime": {
     "start_time": "2020-03-07T19:58:05.616Z"
    }
   },
   "outputs": [],
   "source": [
    "patient_bp_var_error_sys.items()"
   ]
  },
  {
   "cell_type": "code",
   "execution_count": null,
   "metadata": {
    "ExecuteTime": {
     "start_time": "2020-03-07T19:58:05.618Z"
    }
   },
   "outputs": [],
   "source": [
    "sys_vars = [i for sublist in [m[0] for m in patient_bp_var_error_sys.values()] for i in sublist]\n",
    "sys_diffs = [i for sublist in [m[1] for m in patient_bp_var_error_sys.values()] for i in sublist]"
   ]
  },
  {
   "cell_type": "code",
   "execution_count": null,
   "metadata": {
    "ExecuteTime": {
     "start_time": "2020-03-07T19:58:05.621Z"
    }
   },
   "outputs": [],
   "source": [
    "plt.scatter(sys_vars, sys_diffs)"
   ]
  },
  {
   "cell_type": "code",
   "execution_count": null,
   "metadata": {},
   "outputs": [],
   "source": []
  },
  {
   "cell_type": "markdown",
   "metadata": {},
   "source": [
    "# Joint error as function of time from NIBP"
   ]
  },
  {
   "cell_type": "code",
   "execution_count": null,
   "metadata": {
    "ExecuteTime": {
     "start_time": "2020-03-07T19:58:05.625Z"
    }
   },
   "outputs": [],
   "source": [
    "dirs_to_consider = [\"model_predictions_sideris_4s\", \n",
    "                    \"model_predictions_vnet_4s_with_noise\", \n",
    "                    \"ppg_baseline_noise_test_patients\"]\n",
    "\n",
    "cuff_time_error = []\n",
    "for d in dirs_to_consider:\n",
    "    f = os.path.join(\"../reports/figures/\", \n",
    "                     os.path.basename(project_configs.project_dir), \n",
    "                     d, \"error_vs_time_from_cuff.csv\")\n",
    "    print(f)\n",
    "    tdf = pd.read_csv(f, sep=\",\", header=0, index_col=0)\n",
    "    tdf.columns = [\"RMSE\"]\n",
    "    tdf[\"data\"] = d\n",
    "    cuff_time_error.append(tdf)"
   ]
  },
  {
   "cell_type": "code",
   "execution_count": null,
   "metadata": {
    "ExecuteTime": {
     "start_time": "2020-03-07T19:58:05.627Z"
    }
   },
   "outputs": [],
   "source": [
    "dataset_name_mapping = {\"model_predictions_sideris_4s\": \"Sideris et al.\", \n",
    "                        \"model_predictions_vnet_4s_with_noise\": \"V-Net\", \n",
    "                        \"ppg_baseline_noise_test_patients\": \"Scaled PPG\"}\n",
    "for i in cuff_time_error:\n",
    "    i[\"data\"] = i[\"data\"].apply(lambda x: dataset_name_mapping[x])"
   ]
  },
  {
   "cell_type": "code",
   "execution_count": null,
   "metadata": {
    "ExecuteTime": {
     "start_time": "2020-03-07T19:58:05.631Z"
    }
   },
   "outputs": [],
   "source": [
    "fig, ax = plt.subplots(1, 1, figsize=(12, 6))\n",
    "for i in cuff_time_error:\n",
    "    ax.plot(i[\"RMSE\"], label=i[\"data\"].values[0])\n",
    "plt.xlabel(\"Time from most recent NIBP measurement (seconds)\")\n",
    "plt.ylabel(\"RMSE\")\n",
    "plt.ylim([0, 80])\n",
    "plt.tight_layout()\n",
    "plt.locator_params(axis='x', nbins=20)\n",
    "plt.show()"
   ]
  },
  {
   "cell_type": "markdown",
   "metadata": {},
   "source": [
    "# Plotly figure for debugging"
   ]
  },
  {
   "cell_type": "code",
   "execution_count": null,
   "metadata": {
    "ExecuteTime": {
     "start_time": "2020-03-07T19:58:05.633Z"
    }
   },
   "outputs": [],
   "source": [
    "results_df.head()"
   ]
  },
  {
   "cell_type": "code",
   "execution_count": null,
   "metadata": {
    "ExecuteTime": {
     "start_time": "2020-03-07T19:58:05.637Z"
    }
   },
   "outputs": [],
   "source": [
    "results_df[\"diff\"] = results_df[\"y_true\"] - results_df[\"y_pred\"]"
   ]
  },
  {
   "cell_type": "code",
   "execution_count": null,
   "metadata": {
    "ExecuteTime": {
     "start_time": "2020-03-07T19:58:05.639Z"
    }
   },
   "outputs": [],
   "source": [
    "results_df[\"bp_avg\"] = (results_df[\"y_true\"] + results_df[\"y_pred\"])/2"
   ]
  },
  {
   "cell_type": "code",
   "execution_count": null,
   "metadata": {
    "ExecuteTime": {
     "start_time": "2020-03-07T19:58:05.641Z"
    }
   },
   "outputs": [],
   "source": [
    "# fig = px.scatter(results_df, x=\"bp_avg\", y=\"diff\", error_x=\"std_dev_bp\", error_y=\"std_dev_error\",\n",
    "#                      size=\"num_values\", hover_name=\"patient\")"
   ]
  },
  {
   "cell_type": "code",
   "execution_count": null,
   "metadata": {
    "ExecuteTime": {
     "start_time": "2020-03-07T19:58:05.644Z"
    }
   },
   "outputs": [],
   "source": [
    "fig = px.scatter(results_df.sample(n=1000), x=\"bp_avg\", y=\"diff\", hover_name=\"patient_ID\", hover_data=[\"prox\", \"window_number\", \"window_count\", \"date\"])\n",
    "fig.show()"
   ]
  },
  {
   "cell_type": "code",
   "execution_count": null,
   "metadata": {
    "ExecuteTime": {
     "start_time": "2020-03-07T19:58:05.646Z"
    }
   },
   "outputs": [],
   "source": [
    "results_df[(results_df[\"patient_ID\"] == \"p056201\") & \n",
    "           (results_df[\"window_number\"] == 3) & \n",
    "           (results_df[\"window_count\"] == 7) & \n",
    "           (results_df[\"date\"] == \"2107-01-21-19-06\")][[\"y_true\", \"y_pred\", \"nibp_sys\", \"nibp_dias\"]].plot()\n",
    "plt.show()\n",
    "results_df[(results_df[\"patient_ID\"] == \"p056201\") & \n",
    "           (results_df[\"window_number\"] == 3) & \n",
    "           (results_df[\"window_count\"] == 7) & \n",
    "           (results_df[\"date\"] == \"2107-01-21-19-06\")][[\"ppg\"]].plot()\n",
    "plt.show()"
   ]
  },
  {
   "cell_type": "code",
   "execution_count": null,
   "metadata": {
    "ExecuteTime": {
     "start_time": "2020-03-07T19:58:05.649Z"
    }
   },
   "outputs": [],
   "source": [
    "utils.get_art_peaks(results_df[(results_df[\"patient_ID\"] == \"p056201\") & \n",
    "           (results_df[\"window_number\"] == 3) & \n",
    "           (results_df[\"window_count\"] == 7) & \n",
    "           (results_df[\"date\"] == \"2107-01-21-19-06\")][[\"y_true\"]].values[:, 0])"
   ]
  },
  {
   "cell_type": "code",
   "execution_count": null,
   "metadata": {
    "ExecuteTime": {
     "start_time": "2020-03-07T19:58:05.652Z"
    }
   },
   "outputs": [],
   "source": [
    "utils.get_art_peaks(results_df[(results_df[\"patient_ID\"] == \"p056201\") & \n",
    "           (results_df[\"window_number\"] == 3) & \n",
    "           (results_df[\"window_count\"] == 7) & \n",
    "           (results_df[\"date\"] == \"2107-01-21-19-06\")][[\"y_pred\"]].values[:, 0])"
   ]
  },
  {
   "cell_type": "code",
   "execution_count": null,
   "metadata": {
    "ExecuteTime": {
     "start_time": "2020-03-07T19:58:05.655Z"
    }
   },
   "outputs": [],
   "source": [
    "for k, v in results_df[results_df[\"diff\"].abs() > 60].groupby([\"patient_ID\", \"window_number\"]):\n",
    "#     v[[\"y_true\", \"y_pred\"]].plot()\n",
    "#     plt.show()\n",
    "#     print(k, v)\n",
    "    file_string = \"{}-{}_{}_preprocessed_v2.npy\".format(k[0], v[\"date\"].iloc[0], int(k[1]/project_configs.max_windows_per_file))\n",
    "    print(file_string)\n",
    "#     data_dir = os.path.join(os.environ[\"HOME\"], \"Downloads/test_mimic_project/test_mimic_windows\")\n",
    "    data_dir = project_configs.test_dir\n",
    "    try:\n",
    "        X = np.load(os.path.join(data_dir, file_string))\n",
    "        idx = k[1] % project_configs.max_windows_per_file\n",
    "#         print(idx)\n",
    "        print(np.mean(X[idx*project_configs.window_size:idx*project_configs.window_size+project_configs.window_size, 2:-1], axis=0))\n",
    "        fig, ax = plt.subplots(2, 1, figsize=(12, 6))\n",
    "        ax[1].plot(X[idx*project_configs.window_size:idx*project_configs.window_size+project_configs.window_size, 0:2])\n",
    "        ax[0].plot(X[idx*project_configs.window_size:idx*project_configs.window_size+project_configs.window_size, -1])\n",
    "        plt.show()\n",
    "    except FileNotFoundError:\n",
    "        print(\"Could not find\", file_string)"
   ]
  },
  {
   "cell_type": "code",
   "execution_count": null,
   "metadata": {},
   "outputs": [],
   "source": []
  }
 ],
 "metadata": {
  "kernelspec": {
   "display_name": "Python 3",
   "language": "python",
   "name": "python3"
  },
  "language_info": {
   "codemirror_mode": {
    "name": "ipython",
    "version": 3
   },
   "file_extension": ".py",
   "mimetype": "text/x-python",
   "name": "python",
   "nbconvert_exporter": "python",
   "pygments_lexer": "ipython3",
   "version": "3.6.7"
  },
  "toc": {
   "base_numbering": 1,
   "nav_menu": {},
   "number_sections": true,
   "sideBar": true,
   "skip_h1_title": false,
   "title_cell": "Table of Contents",
   "title_sidebar": "Contents",
   "toc_cell": true,
   "toc_position": {},
   "toc_section_display": true,
   "toc_window_display": true
  }
 },
 "nbformat": 4,
 "nbformat_minor": 2
}
